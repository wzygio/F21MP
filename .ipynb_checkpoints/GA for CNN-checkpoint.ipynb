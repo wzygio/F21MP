{
 "cells": [
  {
   "cell_type": "code",
   "execution_count": 3,
   "id": "42ef0186-fe31-4dc6-bd93-121be39500a8",
   "metadata": {},
   "outputs": [],
   "source": [
    "import torch\n",
    "import torch.nn as nn\n",
    "import torch.optim as optim\n",
    "import torchvision\n",
    "import torchvision.transforms as transforms\n",
    "from deap import base, creator, tools, algorithms\n",
    "import random"
   ]
  },
  {
   "cell_type": "code",
   "execution_count": 2,
   "id": "d152557b-784b-4a6d-9f26-245429f67517",
   "metadata": {},
   "outputs": [
    {
     "name": "stdout",
     "output_type": "stream",
     "text": [
      "PyTorch version: 2.5.1+cu118\n",
      "CUDA available: True\n",
      "CUDA version: 11.8\n",
      "GPU count: 1\n",
      "GPU 0: NVIDIA GeForce RTX 3060 Laptop GPU\n"
     ]
    }
   ],
   "source": [
    "# 打印CUDA信息\n",
    "print(f\"PyTorch version: {torch.__version__}\")\n",
    "print(f\"CUDA available: {torch.cuda.is_available()}\")\n",
    "if torch.cuda.is_available():\n",
    "    print(f\"CUDA version: {torch.version.cuda}\")\n",
    "    print(f\"GPU count: {torch.cuda.device_count()}\")\n",
    "    for i in range(torch.cuda.device_count()):\n",
    "        print(f\"GPU {i}: {torch.cuda.get_device_name(i)}\")"
   ]
  },
  {
   "cell_type": "code",
   "execution_count": 3,
   "id": "d47c46ec-8297-4991-9d33-52a1daf28dc1",
   "metadata": {},
   "outputs": [],
   "source": [
    "# 新增设备统一管理\n",
    "device = torch.device(\"cuda:0\" if torch.cuda.is_available() else \"cpu\")"
   ]
  },
  {
   "cell_type": "markdown",
   "id": "d2f4d8e5-1da0-4198-8dbe-f5ba05f7e2dd",
   "metadata": {},
   "source": [
    "## 1：预训练CNN模型\n",
    "首先，定义并训练一个CNN模型在CIFAR-10数据集上。"
   ]
  },
  {
   "cell_type": "code",
   "execution_count": 4,
   "id": "b71baff1-a3e5-49c3-a7a1-2369738d03a0",
   "metadata": {},
   "outputs": [],
   "source": [
    "# 定义CNN模型\n",
    "class SimpleCNN(nn.Module):\n",
    "    def __init__(self):\n",
    "        super(SimpleCNN, self).__init__()\n",
    "        self.conv1 = nn.Conv2d(3, 64, 3, padding=1)\n",
    "        self.relu1 = nn.ReLU()\n",
    "        self.conv2 = nn.Conv2d(64, 128, 3, padding=1)\n",
    "        self.relu2 = nn.ReLU()\n",
    "        self.conv3 = nn.Conv2d(128, 256, 3, padding=1)\n",
    "        self.relu3 = nn.ReLU()\n",
    "        self.pool = nn.MaxPool2d(2, 2)\n",
    "        self.fc = nn.Linear(256 * 4 * 4, 10)\n",
    "\n",
    "    def forward(self, x):\n",
    "        x = self.pool(self.relu1(self.conv1(x)))\n",
    "        x = self.pool(self.relu2(self.conv2(x)))\n",
    "        x = self.pool(self.relu3(self.conv3(x)))\n",
    "        x = x.view(-1, 256 * 4 * 4)\n",
    "        x = self.fc(x)\n",
    "        return x"
   ]
  },
  {
   "cell_type": "code",
   "execution_count": 5,
   "id": "48eaa162-0d8a-4e06-9f33-44dee7f27661",
   "metadata": {},
   "outputs": [],
   "source": [
    "# 数据加载和训练函数\n",
    "def train_model():\n",
    "    transform = transforms.Compose([\n",
    "        transforms.ToTensor(),\n",
    "        transforms.Normalize((0.5, 0.5, 0.5), (0.5, 0.5, 0.5))\n",
    "    ])\n",
    "    trainset = torchvision.datasets.CIFAR10(root='./data', train=True, download=True, transform=transform)\n",
    "    trainloader = torch.utils.data.DataLoader(trainset, batch_size=100, shuffle=True)\n",
    "    \n",
    "    # 使用全局device，模型直接创建在GPU上\n",
    "    model = SimpleCNN().to(device)\n",
    "    criterion = nn.CrossEntropyLoss()\n",
    "    optimizer = optim.Adam(model.parameters(), lr=0.001)\n",
    "    \n",
    "    for epoch in range(10):\n",
    "        model.train()\n",
    "        for inputs, labels in trainloader:\n",
    "            inputs, labels = inputs.to(device), labels.to(device)\n",
    "            optimizer.zero_grad()\n",
    "            outputs = model(inputs)\n",
    "            loss = criterion(outputs, labels)\n",
    "            loss.backward()\n",
    "            optimizer.step()\n",
    "    torch.save(model.state_dict(), 'pretrained_model.pth')"
   ]
  },
  {
   "cell_type": "code",
   "execution_count": 6,
   "id": "b6aa25f6-12d2-4093-958a-4319af9131bd",
   "metadata": {},
   "outputs": [
    {
     "name": "stdout",
     "output_type": "stream",
     "text": [
      "Files already downloaded and verified\n"
     ]
    }
   ],
   "source": [
    "train_model()"
   ]
  },
  {
   "cell_type": "markdown",
   "id": "0615125d-9690-4dee-ad1e-63a44a153431",
   "metadata": {},
   "source": [
    "## 2：设置遗传算法框架\n",
    "使用DEAP库配置遗传算法。"
   ]
  },
  {
   "cell_type": "code",
   "execution_count": 8,
   "id": "ba652a62-3909-48bd-a2e3-c8ec6f90ac3c",
   "metadata": {},
   "outputs": [
    {
     "name": "stderr",
     "output_type": "stream",
     "text": [
      "D:\\program\\HW_PG_Project\\pytorch_env\\lib\\site-packages\\deap\\creator.py:185: RuntimeWarning: A class named 'FitnessMax' has already been created and it will be overwritten. Consider deleting previous creation of that class or rename it.\n",
      "  warnings.warn(\"A class named '{0}' has already been created and it \"\n",
      "D:\\program\\HW_PG_Project\\pytorch_env\\lib\\site-packages\\deap\\creator.py:185: RuntimeWarning: A class named 'Individual' has already been created and it will be overwritten. Consider deleting previous creation of that class or rename it.\n",
      "  warnings.warn(\"A class named '{0}' has already been created and it \"\n"
     ]
    }
   ],
   "source": [
    "# 创建适应度和个体类\n",
    "creator.create(\"FitnessMax\", base.Fitness, weights=(1.0,))\n",
    "creator.create(\"Individual\", list, fitness=creator.FitnessMax)\n",
    "\n",
    "toolbox = base.Toolbox()\n",
    "toolbox.register(\"attr_bool\", random.randint, 0, 1)\n",
    "\n",
    "# 染色体长度：conv1(64) + conv2(128) = 192\n",
    "toolbox.register(\"individual\", tools.initRepeat, creator.Individual, toolbox.attr_bool, n=192)\n",
    "toolbox.register(\"population\", tools.initRepeat, list, toolbox.individual)"
   ]
  },
  {
   "cell_type": "markdown",
   "id": "c6318ebb-adaf-44c8-a4be-462dcd035ac9",
   "metadata": {},
   "source": [
    "## 3：定义剪枝和评估函数\n",
    "加载预训练模型并定义剪枝逻辑及适应度评估。"
   ]
  },
  {
   "cell_type": "code",
   "execution_count": 11,
   "id": "a623a09f-7a69-4cdd-bf20-a1f96b8d4527",
   "metadata": {},
   "outputs": [],
   "source": [
    "# 剪枝算法\n",
    "def prune_model(original_model, conv1_indices, conv2_indices):\n",
    "    # 创建新模型时直接放在GPU\n",
    "    pruned_model = SimpleCNN().to(device)\n",
    "    \n",
    "    # 剪枝conv1（增加空检查）\n",
    "    if len(conv1_indices) == 0:\n",
    "        del pruned_model  # 显存释放\n",
    "        return None\n",
    "    # 权重转移使用GPU张量\n",
    "    pruned_model.conv1.weight.data = original_model.conv1.weight.data[conv1_indices].clone().detach().to(device)\n",
    "    pruned_model.conv1.bias.data = original_model.conv1.bias.data[conv1_indices].clone().detach().to(device)\n",
    "    \n",
    "    # 剪枝conv2（增加维度检查）\n",
    "    if len(conv2_indices) == 0:\n",
    "        del pruned_model\n",
    "        return None\n",
    "    # 使用跨设备安全索引\n",
    "    conv2_weight = original_model.conv2.weight.data[conv2_indices][:, conv1_indices, :, :].clone().detach().to(device)\n",
    "    pruned_model.conv2.weight.data = conv2_weight\n",
    "    pruned_model.conv2.bias.data = original_model.conv2.bias.data[conv2_indices].clone().detach().to(device)\n",
    "    \n",
    "    # 自动匹配设备\n",
    "    pruned_model.conv3.weight.data = original_model.conv3.weight.data[:, :len(conv2_indices), :, :].clone().detach().to(device)\n",
    "    pruned_model.conv3.bias.data = original_model.conv3.bias.data.clone().detach().to(device)\n",
    "    \n",
    "    # 全连接层设备同步\n",
    "    pruned_model.fc.weight.data = original_model.fc.weight.data.clone().detach().to(device)\n",
    "    pruned_model.fc.bias.data = original_model.fc.bias.data.clone().detach().to(device)\n",
    "    \n",
    "    return pruned_model"
   ]
  },
  {
   "cell_type": "code",
   "execution_count": null,
   "id": "b4b638f6-2c49-41fb-9d6a-d3e22d771241",
   "metadata": {},
   "outputs": [],
   "source": [
    "# 适应度函数\n",
    "def evaluate(individual):\n",
    "    print(\"Evaluating individual:\", individual)\n",
    "    \n",
    "    # 解码染色体\n",
    "    conv1_indices = [i for i, bit in enumerate(individual[:64]) if bit == 1]\n",
    "    conv2_indices = [i for i, bit in enumerate(individual[64:192]) if bit == 1]\n",
    "    if not conv1_indices or not conv2_indices:\n",
    "        torch.cuda.empty_cache()  # 清理显存\n",
    "        return (0,)\n",
    "    \n",
    "    # 加载预训练模型到GPU\n",
    "    original_model = SimpleCNN().to(device)\n",
    "    original_model.load_state_dict(torch.load('pretrained_model.pth', map_location=device))  # 确保加载到GPU\n",
    "    \n",
    "    try:\n",
    "        pruned_model = prune_model(original_model, conv1_indices, conv2_indices)\n",
    "        if pruned_model is None:\n",
    "            return (0,)\n",
    "        \n",
    "        # 使用异步数据传输\n",
    "        accuracy = test_accuracy(pruned_model)\n",
    "        \n",
    "        # 显存清理\n",
    "        del original_model\n",
    "        del pruned_model\n",
    "        torch.cuda.empty_cache()\n",
    "        \n",
    "        return (accuracy,)\n",
    "    except RuntimeError as e:  # 捕捉显存溢出\n",
    "        print(f\"显存溢出: {str(e)}\")\n",
    "        return (0,)"
   ]
  },
  {
   "cell_type": "code",
   "execution_count": 13,
   "id": "f8b0650a-df65-45f1-81c2-72e80ba8e968",
   "metadata": {},
   "outputs": [],
   "source": [
    "# 测试CNN的准确率，供适应度函数调用\n",
    "def test_accuracy(model):\n",
    "    transform = transforms.Compose([\n",
    "        transforms.ToTensor(),\n",
    "        transforms.Normalize((0.5, 0.5, 0.5), (0.5, 0.5, 0.5))\n",
    "    ])\n",
    "    testset = torchvision.datasets.CIFAR10(root='./data', train=False, download=True, transform=transform)\n",
    "    testloader = torch.utils.data.DataLoader(testset, batch_size=100, shuffle=False)\n",
    "    \n",
    "    model.to(device)  # 确保模型在GPU\n",
    "    model.eval()\n",
    "    \n",
    "    correct = 0\n",
    "    total = 0\n",
    "    with torch.no_grad():\n",
    "        for inputs, labels in testloader:\n",
    "            # 数据自动转移到GPU\n",
    "            inputs = inputs.to(device, non_blocking=True)  # 异步传输\n",
    "            labels = labels.to(device, non_blocking=True)\n",
    "            \n",
    "            outputs = model(inputs)\n",
    "            _, predicted = torch.max(outputs, 1)\n",
    "            total += labels.size(0)\n",
    "            correct += (predicted == labels).sum().item()\n",
    "    \n",
    "    return correct / total"
   ]
  },
  {
   "cell_type": "code",
   "execution_count": 14,
   "id": "fecf6e73-9215-4311-b2d9-c2e36f1eae9b",
   "metadata": {},
   "outputs": [],
   "source": [
    "### GPU批处理加速\n",
    "toolbox.register(\"evaluate\", evaluate)\n",
    "# 添加CUDA并行评估\n",
    "import multiprocessing\n",
    "pool = multiprocessing.Pool(processes=torch.cuda.device_count())  # 使用GPU数量作为进程数\n",
    "toolbox.register(\"map\", pool.map)"
   ]
  },
  {
   "cell_type": "code",
   "execution_count": 15,
   "id": "8c1a847f-10ae-4f9a-bf0b-162d34ecb7dd",
   "metadata": {},
   "outputs": [],
   "source": [
    "toolbox.register(\"mate\", tools.cxTwoPoint)\n",
    "toolbox.register(\"mutate\", tools.mutFlipBit, indpb=0.05)\n",
    "toolbox.register(\"select\", tools.selTournament, tournsize=3)"
   ]
  },
  {
   "cell_type": "markdown",
   "id": "cb9775ca-8f90-48c0-ae7c-41e481c21b93",
   "metadata": {},
   "source": [
    "## 4：运行遗传算法\n",
    "执行遗传算法优化过程。"
   ]
  },
  {
   "cell_type": "code",
   "execution_count": 16,
   "id": "d42a4bc7-b6cb-44fe-88f1-66d6ce7377a4",
   "metadata": {},
   "outputs": [],
   "source": [
    "def main():\n",
    "    population = toolbox.population(n=20)\n",
    "    NGEN = 5\n",
    "    CXPB = 0.5\n",
    "    MUTPB = 0.2\n",
    "    \n",
    "    for gen in range(NGEN):\n",
    "        offspring = algorithms.varAnd(population, toolbox, CXPB, MUTPB)\n",
    "        fits = toolbox.map(toolbox.evaluate, offspring)\n",
    "        for fit, ind in zip(fits, offspring):\n",
    "            ind.fitness.values = fit\n",
    "        population = toolbox.select(offspring, k=len(population))\n",
    "    \n",
    "    best_ind = tools.selBest(population, k=1)[0]\n",
    "    print(f\"最佳个体适应度: {best_ind.fitness.values[0]}\")"
   ]
  },
  {
   "cell_type": "code",
   "execution_count": null,
   "id": "cc185091-a37c-4938-b589-49e839b2edb9",
   "metadata": {},
   "outputs": [],
   "source": [
    "if __name__ == \"__main__\":\n",
    "    # 初始化CUDA环境\n",
    "    torch.backends.cudnn.benchmark = True  # 启用cuDNN自动优化\n",
    "    main()\n",
    "    # 最后关闭进程池\n",
    "    pool.close()\n",
    "    pool.join()"
   ]
  },
  {
   "cell_type": "code",
   "execution_count": 4,
   "id": "03dd7148-f9a4-41df-828e-89ff016f0749",
   "metadata": {},
   "outputs": [
    {
     "name": "stdout",
     "output_type": "stream",
     "text": [
      "未找到正在运行的 multiprocessing 进程\n",
      "CUDA 显存缓存已清理\n"
     ]
    }
   ],
   "source": [
    "# 终止进程池（如果还在运行）\n",
    "try:\n",
    "    pool.terminate()\n",
    "    pool.join()\n",
    "    print(\"已成功关闭 multiprocessing 进程池\")\n",
    "except:\n",
    "    print(\"未找到正在运行的 multiprocessing 进程\")\n",
    "\n",
    "# 清理 CUDA 缓存\n",
    "torch.cuda.empty_cache()\n",
    "print(\"CUDA 显存缓存已清理\")"
   ]
  },
  {
   "cell_type": "markdown",
   "id": "e598c8d6-4aad-4004-939c-bcb29c5929df",
   "metadata": {},
   "source": [
    "## 5：微调剪枝后的模型\n",
    "对找到的最佳剪枝模型进行微调以恢复性能。"
   ]
  },
  {
   "cell_type": "code",
   "execution_count": 21,
   "id": "f7a097b4-672a-4c3d-a2a2-da6d833be3aa",
   "metadata": {},
   "outputs": [],
   "source": [
    "def fine_tune(pruned_model):\n",
    "    transform = transforms.Compose([\n",
    "        transforms.ToTensor(),\n",
    "        transforms.Normalize((0.5, 0.5, 0.5), (0.5, 0.5, 0.5))\n",
    "    ])\n",
    "    trainset = torchvision.datasets.CIFAR10(root='./data', train=True, download=True, transform=transform)\n",
    "    trainloader = torch.utils.data.DataLoader(trainset, batch_size=100, shuffle=True)\n",
    "    criterion = nn.CrossEntropyLoss()\n",
    "    \n",
    "    device = torch.device('cuda' if torch.cuda.is_available() else 'cpu')\n",
    "    pruned_model.to(device)  # 确保模型在GPU\n",
    "    optimizer = optim.Adam(pruned_model.parameters(), lr=0.0001)\n",
    "    \n",
    "    # 使用混合精度训练\n",
    "    scaler = torch.cuda.amp.GradScaler()\n",
    "    \n",
    "    for epoch in range(5):\n",
    "        pruned_model.train()\n",
    "        for inputs, labels in trainloader:\n",
    "            inputs = inputs.to(device, non_blocking=True)\n",
    "            labels = labels.to(device, non_blocking=True)\n",
    "            \n",
    "            optimizer.zero_grad()\n",
    "            with torch.cuda.amp.autocast():  # 自动混合精度\n",
    "                outputs = pruned_model(inputs)\n",
    "                loss = criterion(outputs, labels)\n",
    "            scaler.scale(loss).backward()\n",
    "            scaler.step(optimizer)\n",
    "            scaler.update()\n",
    "    \n",
    "    return pruned_model"
   ]
  },
  {
   "cell_type": "code",
   "execution_count": null,
   "id": "542ef95e-46ed-4620-acea-c99ae695c4d5",
   "metadata": {},
   "outputs": [],
   "source": []
  }
 ],
 "metadata": {
  "kernelspec": {
   "display_name": "Python (pytorch_env)",
   "language": "python",
   "name": "pytorch_env"
  },
  "language_info": {
   "codemirror_mode": {
    "name": "ipython",
    "version": 3
   },
   "file_extension": ".py",
   "mimetype": "text/x-python",
   "name": "python",
   "nbconvert_exporter": "python",
   "pygments_lexer": "ipython3",
   "version": "3.10.10"
  }
 },
 "nbformat": 4,
 "nbformat_minor": 5
}
