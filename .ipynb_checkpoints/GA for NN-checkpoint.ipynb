{
 "cells": [
  {
   "cell_type": "code",
   "execution_count": 1,
   "id": "42e57aed-0cbc-49b2-8bbf-873ff1ed27ee",
   "metadata": {},
   "outputs": [],
   "source": [
    "import numpy as np\n",
    "import pandas as pd\n",
    "import random\n",
    "from sklearn.model_selection import train_test_split\n",
    "from sklearn.preprocessing import StandardScaler"
   ]
  },
  {
   "cell_type": "code",
   "execution_count": 2,
   "id": "fec16faf-f35f-41aa-9fee-c73ba76039ec",
   "metadata": {},
   "outputs": [],
   "source": [
    "import matplotlib.pyplot as plt\n",
    "from statistics import mean, stdev\n",
    "import time"
   ]
  },
  {
   "cell_type": "markdown",
   "id": "f9f48ea3-ec82-4068-bcdf-aba1fb6c1d5c",
   "metadata": {},
   "source": [
    "# Data preprocessing"
   ]
  },
  {
   "cell_type": "markdown",
   "id": "ea5658a2-556b-4b8b-b83a-05eacd8515fa",
   "metadata": {},
   "source": [
    "**1. Read data**"
   ]
  },
  {
   "cell_type": "code",
   "execution_count": 3,
   "id": "58b48170-32d9-47a3-b76a-83e44b2c0b78",
   "metadata": {},
   "outputs": [],
   "source": [
    "# Read Dataset\n",
    "file_path = 'concrete_data.csv' # Replace with the actual path of the file you uploaded\n",
    "df = pd.read_csv(file_path)\n",
    "\n",
    "# Use the first 8 columns as input features X and the last column as target variable y\n",
    "X = df.iloc[:, :-1].values\n",
    "y = df.iloc[:, -1].values"
   ]
  },
  {
   "cell_type": "code",
   "execution_count": 4,
   "id": "3ded579b-089c-41c2-943b-7cb40657fff0",
   "metadata": {},
   "outputs": [
    {
     "data": {
      "text/html": [
       "<div>\n",
       "<style scoped>\n",
       "    .dataframe tbody tr th:only-of-type {\n",
       "        vertical-align: middle;\n",
       "    }\n",
       "\n",
       "    .dataframe tbody tr th {\n",
       "        vertical-align: top;\n",
       "    }\n",
       "\n",
       "    .dataframe thead th {\n",
       "        text-align: right;\n",
       "    }\n",
       "</style>\n",
       "<table border=\"1\" class=\"dataframe\">\n",
       "  <thead>\n",
       "    <tr style=\"text-align: right;\">\n",
       "      <th></th>\n",
       "      <th>cement</th>\n",
       "      <th>blast_furnace_slag</th>\n",
       "      <th>fly_ash</th>\n",
       "      <th>water</th>\n",
       "      <th>superplasticizer</th>\n",
       "      <th>coarse_aggregate</th>\n",
       "      <th>fine_aggregate</th>\n",
       "      <th>age</th>\n",
       "      <th>concrete_compressive_strength</th>\n",
       "    </tr>\n",
       "  </thead>\n",
       "  <tbody>\n",
       "    <tr>\n",
       "      <th>0</th>\n",
       "      <td>540.0</td>\n",
       "      <td>0.0</td>\n",
       "      <td>0.0</td>\n",
       "      <td>162.0</td>\n",
       "      <td>2.5</td>\n",
       "      <td>1040.0</td>\n",
       "      <td>676.0</td>\n",
       "      <td>28</td>\n",
       "      <td>79.99</td>\n",
       "    </tr>\n",
       "    <tr>\n",
       "      <th>1</th>\n",
       "      <td>540.0</td>\n",
       "      <td>0.0</td>\n",
       "      <td>0.0</td>\n",
       "      <td>162.0</td>\n",
       "      <td>2.5</td>\n",
       "      <td>1055.0</td>\n",
       "      <td>676.0</td>\n",
       "      <td>28</td>\n",
       "      <td>61.89</td>\n",
       "    </tr>\n",
       "    <tr>\n",
       "      <th>2</th>\n",
       "      <td>332.5</td>\n",
       "      <td>142.5</td>\n",
       "      <td>0.0</td>\n",
       "      <td>228.0</td>\n",
       "      <td>0.0</td>\n",
       "      <td>932.0</td>\n",
       "      <td>594.0</td>\n",
       "      <td>270</td>\n",
       "      <td>40.27</td>\n",
       "    </tr>\n",
       "    <tr>\n",
       "      <th>3</th>\n",
       "      <td>332.5</td>\n",
       "      <td>142.5</td>\n",
       "      <td>0.0</td>\n",
       "      <td>228.0</td>\n",
       "      <td>0.0</td>\n",
       "      <td>932.0</td>\n",
       "      <td>594.0</td>\n",
       "      <td>365</td>\n",
       "      <td>41.05</td>\n",
       "    </tr>\n",
       "    <tr>\n",
       "      <th>4</th>\n",
       "      <td>198.6</td>\n",
       "      <td>132.4</td>\n",
       "      <td>0.0</td>\n",
       "      <td>192.0</td>\n",
       "      <td>0.0</td>\n",
       "      <td>978.4</td>\n",
       "      <td>825.5</td>\n",
       "      <td>360</td>\n",
       "      <td>44.30</td>\n",
       "    </tr>\n",
       "  </tbody>\n",
       "</table>\n",
       "</div>"
      ],
      "text/plain": [
       "   cement  blast_furnace_slag  fly_ash  water  superplasticizer  \\\n",
       "0   540.0                 0.0      0.0  162.0               2.5   \n",
       "1   540.0                 0.0      0.0  162.0               2.5   \n",
       "2   332.5               142.5      0.0  228.0               0.0   \n",
       "3   332.5               142.5      0.0  228.0               0.0   \n",
       "4   198.6               132.4      0.0  192.0               0.0   \n",
       "\n",
       "   coarse_aggregate  fine_aggregate   age  concrete_compressive_strength  \n",
       "0            1040.0            676.0   28                          79.99  \n",
       "1            1055.0            676.0   28                          61.89  \n",
       "2             932.0            594.0  270                          40.27  \n",
       "3             932.0            594.0  365                          41.05  \n",
       "4             978.4            825.5  360                          44.30  "
      ]
     },
     "execution_count": 4,
     "metadata": {},
     "output_type": "execute_result"
    }
   ],
   "source": [
    "df.head()"
   ]
  },
  {
   "cell_type": "markdown",
   "id": "532a51cf-fe9d-4b61-a66d-1fa459f0b72b",
   "metadata": {},
   "source": [
    "**2. Data Normalization**"
   ]
  },
  {
   "cell_type": "code",
   "execution_count": 5,
   "id": "8fce3516-6252-42ac-a53f-24655b0a067b",
   "metadata": {},
   "outputs": [],
   "source": [
    "# Data normalization\n",
    "scaler = StandardScaler()\n",
    "X_scaled = scaler.fit_transform(X)"
   ]
  },
  {
   "cell_type": "markdown",
   "id": "d2a7932d-70fd-4769-be0e-b2cbb11ea884",
   "metadata": {},
   "source": [
    "**3. Divide the training set and test set**"
   ]
  },
  {
   "cell_type": "code",
   "execution_count": 6,
   "id": "1285bf31-43db-4cb6-b4f0-51141f3dc714",
   "metadata": {},
   "outputs": [],
   "source": [
    "# Divide the training set and test set\n",
    "X_train, X_test, y_train, y_test = train_test_split(X_scaled, y, test_size=0.3, random_state=42)"
   ]
  },
  {
   "cell_type": "code",
   "execution_count": 7,
   "id": "cc88929b-3f08-4547-998b-a6ca2a254374",
   "metadata": {},
   "outputs": [
    {
     "name": "stdout",
     "output_type": "stream",
     "text": [
      "X_train shape:  (721, 8)\n",
      "X_test shape: (309, 8)\n",
      "y_train shape: (721,)\n",
      "y_test shape: (309,)\n"
     ]
    }
   ],
   "source": [
    "print(\"X_train shape: \", X_train.shape)\n",
    "print(\"X_test shape:\", X_test.shape)\n",
    "print(\"y_train shape:\", y_train.shape)\n",
    "print(\"y_test shape:\", y_test.shape)"
   ]
  },
  {
   "cell_type": "markdown",
   "id": "3299a884-dcd2-443b-8076-ea5e92b0f786",
   "metadata": {},
   "source": [
    "# ANN"
   ]
  },
  {
   "cell_type": "code",
   "execution_count": 8,
   "id": "12369963-0382-4f28-b137-8df27569662b",
   "metadata": {},
   "outputs": [],
   "source": [
    "def sigmoid(x):\n",
    "    return 1 / (1 + np.exp(-x))\n",
    "\n",
    "def relu(x):\n",
    "    return np.maximum(0, x)\n",
    "\n",
    "def tanh(x):\n",
    "    return np.tanh(x)"
   ]
  },
  {
   "cell_type": "code",
   "execution_count": 9,
   "id": "c2da25ad-bde7-4855-aae4-0a8d1320ee48",
   "metadata": {},
   "outputs": [],
   "source": [
    "class NeuralNetwork:\n",
    "    def __init__(self, input_size, hidden_layers, output_size, activation_function='relu'):\n",
    "        # Network layer structure\n",
    "        self.layers = [input_size] + hidden_layers + [output_size]\n",
    "        self.activation_function = self.get_activation_function(activation_function)\n",
    "        \n",
    "        # Initialize weights and biases\n",
    "        self.weights = []  \n",
    "        self.biases = []   \n",
    "        \n",
    "        for i in range(len(self.layers) - 1):\n",
    "            # Xavier Initialization for weights\n",
    "            n_in = self.layers[i]\n",
    "            n_out = self.layers[i + 1]\n",
    "            # Xavier normal distribution initialization\n",
    "            self.weights.append(np.random.randn(n_in, n_out) * np.sqrt(1 / n_in))\n",
    "            # Initialize bias to zero\n",
    "            self.biases.append(np.zeros((1, n_out)))\n",
    "\n",
    "    def get_activation_function(self, name):\n",
    "        if name == \"sigmoid\":\n",
    "            return sigmoid\n",
    "        elif name == \"relu\":\n",
    "            return relu\n",
    "        elif name == \"tanh\":\n",
    "            return tanh\n",
    "        else:\n",
    "            raise ValueError(\"Unknown activation function\")\n",
    "\n",
    "    def forward(self, X):\n",
    "        \"\"\"\n",
    "        Forward propagation calculation\n",
    "        X: Input data, shape is (number of samples, number of features)\n",
    "        Return value: Output result, shape is (number of samples, number of neurons in the output layer)\n",
    "        \"\"\"\n",
    "        A = X  # Input layer output\n",
    "        for i in range(len(self.weights) - 1):\n",
    "            Z = np.dot(A, self.weights[i]) + self.biases[i]  # Linear transformation\n",
    "            A = self.activation_function(Z)  # Activation function\n",
    "        # Output layer has no activation function\n",
    "        output = np.dot(A, self.weights[-1]) + self.biases[-1]\n",
    "        return output\n",
    "    \n",
    "    def to_genome(self):\n",
    "        \"\"\"\n",
    "        Flatten the weights and biases into a one-dimensional array for genome representation\n",
    "        :return: Flattened one-dimensional array\n",
    "        \"\"\"\n",
    "        flattened_weights = [w.flatten() for w in self.weights]\n",
    "        flattened_biases = [b.flatten() for b in self.biases]\n",
    "        return np.concatenate(flattened_weights + flattened_biases)\n",
    "\n",
    "    def from_genome(self, genome):\n",
    "        \"\"\"\n",
    "        Restore the one-dimensional array of genomes to their original form of weights and biases\n",
    "        :param genome: the flattened one-dimensional array\n",
    "        \"\"\"\n",
    "        start = 0\n",
    "        for i in range(len(self.weights)):\n",
    "            # Restore weights\n",
    "            weight_shape = self.weights[i].shape # 当前层的权重矩阵的形状\n",
    "            weight_size = np.prod(weight_shape)\n",
    "            self.weights[i] = genome[start:start + weight_size].reshape(weight_shape) # 截取例子向量中的一部分并复原成当前层权重矩阵的形状\n",
    "            start += weight_size\n",
    "\n",
    "        for i in range(len(self.biases)):\n",
    "            # Restore bias\n",
    "            bias_shape = self.biases[i].shape\n",
    "            bias_size = np.prod(bias_shape)\n",
    "            self.biases[i] = genome[start:start + bias_size].reshape(bias_shape)\n",
    "            start += bias_size\n",
    "            \n",
    "    def get_bounds(self, bound_value=1):\n",
    "        \"\"\"\n",
    "        Generate the search space range according to the structure of the neural network\n",
    "        :param bound_value: The upper and lower bounds of the search space, for example [-bound_value, bound_value]\n",
    "        :return: NumPy array, shape (dimensions, 2), each row represents [min, max]\n",
    "        \"\"\"\n",
    "        genome_size = self.to_genome().size  # Get the total dimension of the genome\n",
    "        bounds = np.array([[-bound_value, bound_value]] * genome_size)  # Set the same upper and lower bounds for each dimension\n",
    "        return bounds"
   ]
  },
  {
   "cell_type": "code",
   "execution_count": 10,
   "id": "e62d2623-b0f8-472b-99dd-4fc53095aa67",
   "metadata": {},
   "outputs": [],
   "source": [
    "ann = NeuralNetwork(input_size=8, hidden_layers=[10, 20], output_size=1, activation_function='relu')"
   ]
  },
  {
   "cell_type": "code",
   "execution_count": 11,
   "id": "aa236c62-d835-4a59-bb58-f1a1add977b9",
   "metadata": {},
   "outputs": [
    {
     "name": "stdout",
     "output_type": "stream",
     "text": [
      "(721, 1)\n"
     ]
    }
   ],
   "source": [
    "# Perform forward propagation\n",
    "predictions = ann.forward(X_train)\n",
    "print(predictions.shape)"
   ]
  },
  {
   "cell_type": "markdown",
   "id": "d1fdaa6c-2d94-4010-ae4e-cf89a0acd08b",
   "metadata": {},
   "source": [
    "# GA\n",
    "1. 初始化种群\n",
    "2. 更新初始种群的适应度值\n",
    "3. REPEAT (循环，直到达到终止条件)  \n",
    "    a. 选择父代个体（根据适应度）  \n",
    "    b. 执行交叉操作，生成后代  \n",
    "    c. 执行变异操作，改变后代基因  \n",
    "    d. 更新后代适应度  \n",
    "    e. 使用精英保留策略更新种群  \n",
    "4. 返回最优解和相应的适应度\n"
   ]
  },
  {
   "cell_type": "markdown",
   "id": "e5f7eb42-3ab9-4e6d-be6b-c12b12bbc2a0",
   "metadata": {},
   "source": [
    "## Indiavidual and Population"
   ]
  },
  {
   "cell_type": "code",
   "execution_count": 28,
   "id": "a52903a4-c76f-4656-b4a2-bd84fa514af0",
   "metadata": {},
   "outputs": [],
   "source": [
    "class Individual:\n",
    "    def __init__(self, dimensions, bounds):\n",
    "        \"\"\"\n",
    "        Initialize an individual in the population\n",
    "        :param dimensions: the dimensions of the individual's genome (corresponding to the total number of weights and biases of the ANN)\n",
    "        :param bounds: the search space range [(min, max), ...] the minimum and maximum values ​​of each dimension\n",
    "        \"\"\"\n",
    "        # bounds_range = bounds[:, 1] - bounds[:, 0]\n",
    "        self.bounds = bounds\n",
    "        self.genome = np.random.uniform(bounds[:, 0], bounds[:, 1], dimensions)  # Randomly initialize the genome\n",
    "        self.fitness = float('inf')  # Initialize fitness to infinity"
   ]
  },
  {
   "cell_type": "code",
   "execution_count": 103,
   "id": "46667c49-f16e-4845-b166-1a5e6798b33d",
   "metadata": {},
   "outputs": [],
   "source": [
    "class Population:\n",
    "    def __init__(self, population_size, population=None, dimensions=dimensions, bounds=bounds):\n",
    "        \"\"\"\n",
    "        Initialize the population\n",
    "        :param population_size: the number of individuals in the population\n",
    "        :param dimensions: the dimensions of each individual's genome\n",
    "        :param bounds: the search space range [(min, max), ...] for each dimension\n",
    "        \"\"\"\n",
    "        self.population_size = population_size\n",
    "        self.dimensions = dimensions\n",
    "        self.bounds = bounds\n",
    "\n",
    "        # Initialize population\n",
    "        if population == None:\n",
    "            self.population = [Individual(dimensions, bounds) for _ in range(population_size)]\n",
    "        else:\n",
    "            self.population = population\n",
    "            \n",
    "\n",
    "    def update_fitness(self, fitness_function = fitness_function):\n",
    "        \"\"\"\n",
    "        Update the fitness values of all individuals in the population.\n",
    "        :param fitness_function: a callable fitness function that takes an individual's genome and additional arguments\n",
    "        :ohter: arguments for the fitness function\n",
    "        \"\"\"\n",
    "        for individual in self.population:\n",
    "            # Compute fitness using the provided fitness function\n",
    "            individual.fitness = fitness_function(individual.genome)\n",
    "\n",
    "    def update_population(self, new_population):\n",
    "        self.population = new_population"
   ]
  },
  {
   "cell_type": "code",
   "execution_count": 127,
   "id": "c63fec4d-29c2-4528-bf80-eec897f96b25",
   "metadata": {},
   "outputs": [
    {
     "name": "stdout",
     "output_type": "stream",
     "text": [
      "Individual 0 fitness: 0.6443585581472281\n",
      "Individual 1 fitness: 0.8252914924076288\n",
      "Individual 2 fitness: 0.9386035986719807\n",
      "Individual 3 fitness: 0.753808912449876\n",
      "Individual 4 fitness: 0.5703771210970742\n"
     ]
    }
   ],
   "source": [
    "# 已经定义了适应度函数 fitness_function，神经网络模型 ann，训练数据 X_train 和 y_train\n",
    "dimensions = ann.to_genome().size\n",
    "bounds=np.array([[-1, 1]] * dimensions)\n",
    "\n",
    "# 初始化种群\n",
    "population = Population(50)\n",
    "\n",
    "# 更新适应度\n",
    "population.update_fitness()\n",
    "\n",
    "# 查看适应度\n",
    "for i, individual in enumerate(population.population[:5]):  # 打印前5个个体的适应度\n",
    "    print(f\"Individual {i} fitness: {individual.fitness}\")"
   ]
  },
  {
   "cell_type": "markdown",
   "id": "c8423551-feab-4a00-b821-567d0b65c39c",
   "metadata": {},
   "source": [
    "## Fitness Functin"
   ]
  },
  {
   "cell_type": "code",
   "execution_count": 166,
   "id": "27fa04f9-d6f2-4ca5-a802-0a74839bd33f",
   "metadata": {},
   "outputs": [],
   "source": [
    "def fitness_function(individual_genome, ann=ann, X_train=X_train, y_train=y_train, lambda_reg=0.01):\n",
    "    \"\"\"\n",
    "    Calculate fitness value (use MSE with L2 regularization for a neural network in GA)\n",
    "    :param individual_genome: genome of the individual (expanded weight and bias array)\n",
    "    :param ann: neural network model\n",
    "    :param X_train: training set input\n",
    "    :param y_train: training set output\n",
    "    :param lambda_reg: regularization coefficient\n",
    "    :return: fitness value (negative loss, higher is better for GA)\n",
    "    \"\"\"\n",
    "    # Decode the individual's genome into weights and biases\n",
    "    ann.from_genome(individual_genome)\n",
    "\n",
    "    # Forward propagation, calculate predictions\n",
    "    predictions = ann.forward(X_train)\n",
    "\n",
    "    # Calculate mean square error (MSE)\n",
    "    mse = np.mean((predictions - y_train) ** 2)\n",
    "\n",
    "    # Calculate L2 regularization term\n",
    "    l2_regularization = 0\n",
    "    for w in ann.weights:\n",
    "        l2_regularization += np.sum(w ** 2)\n",
    "\n",
    "    # Total loss = MSE + regularization term\n",
    "    total_loss = mse + lambda_reg * l2_regularization\n",
    "\n",
    "    # Fitness: inverse of the total loss\n",
    "    fitness = 1 / (1 + total_loss)\n",
    "    return fitness*1000"
   ]
  },
  {
   "cell_type": "code",
   "execution_count": 167,
   "id": "2091551d-bb0d-46ce-9bad-87e65195fc35",
   "metadata": {},
   "outputs": [
    {
     "name": "stdout",
     "output_type": "stream",
     "text": [
      "Fitness value: 0.6402232630843612\n"
     ]
    }
   ],
   "source": [
    "individual_genome = np.random.uniform(-1, 1, dimensions)  # 随机生成个体基因\n",
    "fitness = fitness_function(individual_genome, ann, X_train, y_train, lambda_reg=0.01)\n",
    "\n",
    "print(\"Fitness value:\", fitness)"
   ]
  },
  {
   "cell_type": "markdown",
   "id": "16e2657a-0a18-4d66-8f0d-ab7837223cf6",
   "metadata": {},
   "source": [
    "## Selection"
   ]
  },
  {
   "cell_type": "markdown",
   "id": "463705d3-6c0e-4bf6-bdc0-1a61f1eb4dbf",
   "metadata": {},
   "source": [
    "选择策略解析\n",
    "1. 轮盘赌选择（Roulette Wheel Selection）  \n",
    "原理：\n",
    "根据个体适应度值的比例进行选择。\n",
    "适应度越高的个体被选择的概率越大。  \n",
    "适用场景：\n",
    "适合适应度值分布较均匀的情况。  \n",
    "实现逻辑：\n",
    "归一化适应度值作为概率分布。\n",
    "按照该概率分布从种群中随机采样。  \n",
    "2. 锦标赛选择（Tournament Selection）  \n",
    "原理：\n",
    "随机选出 tournament_size 个个体，从中选择适应度最高的个体。\n",
    "重复该过程直到选出指定数量的个体。  \n",
    "适用场景：\n",
    "适合适应度分布差异较大的情况。\n",
    "通过调整 tournament_size 可以平衡选择压力（较小的值增加随机性，较大的值更偏向精英选择）。\n",
    "3. 排名选择（Rank Selection）  \n",
    "原理：\n",
    "根据适应度排序，分配选择概率：排名越高的个体被选择的概率越大。\n",
    "适应度值被转换为排序指数，避免直接使用适应度值可能带来的不稳定性。  \n",
    "适用场景：\n",
    "当适应度值跨度较大或分布极不均匀时。\n",
    "通过排序后的概率分配，可以避免过早收敛。"
   ]
  },
  {
   "cell_type": "code",
   "execution_count": 105,
   "id": "bd5ea72b-0351-43a1-b6db-f5b608d94453",
   "metadata": {},
   "outputs": [],
   "source": [
    "def selection(population, num_selected, strategy='roulette', tournament_size=3):\n",
    "    \"\"\"\n",
    "    Select individuals from the population based on the specified strategy.\n",
    "    :param population: Population object containing individuals and their fitness\n",
    "    :param num_selected: Number of individuals to select\n",
    "    :param strategy: Selection strategy ('roulette', 'tournament', 'rank')\n",
    "    :param tournament_size: Number of participants in a tournament (used for 'tournament' strategy)\n",
    "    :return: List of selected individuals\n",
    "    \"\"\"\n",
    "    individuals = population.population  # 获取种群中的所有个体\n",
    "    fitnesses = np.array([ind.fitness for ind in individuals])  # 获取所有个体的适应度值\n",
    "\n",
    "    selected = []\n",
    "    selected_indices = []\n",
    "\n",
    "    if strategy == 'roulette':\n",
    "        # Normalize fitness values to probabilities\n",
    "        total_fitness = np.sum(fitnesses)\n",
    "        \n",
    "        if total_fitness == 0 or np.isnan(total_fitness):\n",
    "            # If total fitness is zero or NaN, fall back to uniform random selection\n",
    "            probabilities = np.ones(len(individuals)) / len(individuals)\n",
    "        else:\n",
    "            probabilities = fitnesses / total_fitness\n",
    "    \n",
    "        selected_indices = np.random.choice(len(individuals), size=num_selected, p=probabilities)\n",
    "        selected = [individuals[i] for i in selected_indices]\n",
    "\n",
    "    elif strategy == 'tournament':\n",
    "        for _ in range(num_selected):\n",
    "            # Randomly select 'tournament_size' individuals\n",
    "            participants = np.random.choice(len(individuals), size=tournament_size, replace=False)\n",
    "            # Select the best individual from participants\n",
    "            best_index = participants[np.argmax([fitnesses[i] for i in participants])]\n",
    "            selected_indices.append(best_index)\n",
    "            selected.append(individuals[best_index])\n",
    "\n",
    "    elif strategy == 'rank':\n",
    "        # Sort individuals by fitness (descending order)\n",
    "        ranked_indices = np.argsort(fitnesses)[::-1]\n",
    "        # Assign selection probabilities based on rank\n",
    "        ranks = np.arange(1, len(individuals) + 1)\n",
    "        probabilities = ranks / np.sum(ranks)  # Higher rank gets higher probability\n",
    "        selected_indices = np.random.choice(len(individuals), size=num_selected, p=probabilities)\n",
    "        selected = [individuals[i] for i in selected_indices]\n",
    "\n",
    "    else:\n",
    "        raise ValueError(\"Invalid selection strategy. Choose from 'roulette', 'tournament', or 'rank'.\")\n",
    "\n",
    "    return Population(num_selected, selected), selected_indices"
   ]
  },
  {
   "cell_type": "code",
   "execution_count": 106,
   "id": "28d683c4-64b0-4608-903c-04f275df4590",
   "metadata": {},
   "outputs": [
    {
     "name": "stdout",
     "output_type": "stream",
     "text": [
      "Selected Individuals (Roulette): [31 16 31 38 11 16 19  3 42 41]\n",
      "Selected Individuals (Tournament): [42, 24, 17, 38, 45, 9, 45, 13, 13, 31]\n",
      "Selected Individuals (Rank): [40 39 34 37 17 22 39 39 47  6]\n"
     ]
    }
   ],
   "source": [
    "# 使用选择函数\n",
    "_, selected_individuals = selection(population, num_selected=10, strategy='roulette')\n",
    "print(\"Selected Individuals (Roulette):\", selected_individuals)\n",
    "\n",
    "_, selected_tournament = selection(population, num_selected=10, strategy='tournament', tournament_size=5)\n",
    "print(\"Selected Individuals (Tournament):\", selected_tournament)\n",
    "\n",
    "_, selected_rank = selection(population, num_selected=10, strategy='rank')\n",
    "print(\"Selected Individuals (Rank):\", selected_rank)"
   ]
  },
  {
   "cell_type": "markdown",
   "id": "efbbe566-8045-4476-8b71-39fc83e5bc16",
   "metadata": {},
   "source": [
    "## Crossover\n",
    "目的：\n",
    "通过交换两个父代个体的基因，生成新的后代个体。\n",
    "模拟生物遗传中的基因重组，增加种群多样性。\n",
    "  \n",
    "交叉操作的类型：\n",
    "1. 单点交叉：\n",
    "在染色体中随机选一个点，交换两个父代该点之后的基因。\n",
    "简单易实现，适合实数编码。\n",
    "2. 两点交叉：\n",
    "在染色体中随机选两个点，仅交换这两点之间的基因段。\n",
    "更灵活，适合较长染色体。\n",
    "3. 均匀交叉：\n",
    "每个基因以固定概率从一个父代继承。\n",
    "更具随机性，适合更高的探索性。\n",
    "\n",
    "交叉概率：\n",
    "用一个概率参数（crossover_rate）决定是否执行交叉操作。\n",
    "若未执行交叉，直接保留父代。"
   ]
  },
  {
   "cell_type": "code",
   "execution_count": 185,
   "id": "4787dfde-1444-4760-8c30-33e3bae1cce5",
   "metadata": {},
   "outputs": [],
   "source": [
    "def crossover(parents, crossover_rate=0.9, method='single_point'):\n",
    "    \"\"\"\n",
    "    Perform crossover operation to generate offspring.\n",
    "    :param parents: List of parent individuals (assume an even number of parents)\n",
    "    :param crossover_rate: Probability of performing crossover\n",
    "    :param method: Crossover method ('single_point', 'two_point', 'uniform')\n",
    "    :return: List of offspring individuals\n",
    "    \"\"\"\n",
    "    num_parents = parents.population_size\n",
    "    parents = parents.population\n",
    "    offspring = []\n",
    "\n",
    "    for i in range(0, num_parents, 2):\n",
    "        parent1 = parents[i]\n",
    "        parent2 = parents[i + 1]\n",
    "\n",
    "        # Check if crossover should be performed\n",
    "        if np.random.rand() < crossover_rate:\n",
    "            if method == 'single_point':\n",
    "                # Single-point crossover\n",
    "                point = np.random.randint(1, len(parent1.genome))\n",
    "                child1_genome = np.concatenate((parent1.genome[:point], parent2.genome[point:]))\n",
    "                child2_genome = np.concatenate((parent2.genome[:point], parent1.genome[point:]))\n",
    "\n",
    "            elif method == 'two_point':\n",
    "                # Two-point crossover\n",
    "                point1, point2 = sorted(np.random.choice(len(parent1.genome), 2, replace=False))\n",
    "                child1_genome = np.concatenate((parent1.genome[:point1], parent2.genome[point1:point2], parent1.genome[point2:]))\n",
    "                child2_genome = np.concatenate((parent2.genome[:point1], parent1.genome[point1:point2], parent2.genome[point2:]))\n",
    "\n",
    "            elif method == 'uniform':\n",
    "                # Uniform crossover\n",
    "                mask = np.random.rand(len(parent1.genome)) < 0.5\n",
    "                child1_genome = np.where(mask, parent1.genome, parent2.genome)\n",
    "                child2_genome = np.where(mask, parent2.genome, parent1.genome)\n",
    "\n",
    "            else:\n",
    "                raise ValueError(\"Invalid crossover method. Choose from 'single_point', 'two_point', or 'uniform'.\")\n",
    "\n",
    "            # Create offspring\n",
    "            child1 = Individual(len(child1_genome), parent1.bounds)\n",
    "            child2 = Individual(len(child2_genome), parent2.bounds)\n",
    "            child1.genome = child1_genome\n",
    "            child2.genome = child2_genome\n",
    "\n",
    "        else:\n",
    "            # No crossover, offspring are clones of parents\n",
    "            child1 = parent1\n",
    "            child2 = parent2\n",
    "\n",
    "        offspring.extend([child1, child2])\n",
    "\n",
    "    return Population(len(offspring), offspring)"
   ]
  },
  {
   "cell_type": "code",
   "execution_count": 186,
   "id": "9b967a0e-59a8-42d6-990f-ff51a8bd69f2",
   "metadata": {},
   "outputs": [
    {
     "name": "stdout",
     "output_type": "stream",
     "text": [
      "Generated offspring using single-point crossover: 30\n",
      "Generated offspring using two-point crossover: 30\n",
      "Generated offspring using uniform crossover: 30\n"
     ]
    }
   ],
   "source": [
    "# 假设已初始化的父代列表\n",
    "parents, _ = selection(population, num_selected=30, strategy='roulette')\n",
    "\n",
    "# 执行单点交叉\n",
    "offspring = crossover(parents, crossover_rate=0.9, method='single_point')\n",
    "print(\"Generated offspring using single-point crossover:\", offspring.population_size)\n",
    "\n",
    "# 执行两点交叉\n",
    "offspring = crossover(parents, crossover_rate=0.9, method='two_point')\n",
    "print(\"Generated offspring using two-point crossover:\", offspring.population_size)\n",
    "\n",
    "# 执行均匀交叉\n",
    "offspring = crossover(parents, crossover_rate=0.9, method='uniform')\n",
    "print(\"Generated offspring using uniform crossover:\", offspring.population_size)"
   ]
  },
  {
   "cell_type": "markdown",
   "id": "db804d91-0c2f-4d7c-92e1-a2c0dcb99a7f",
   "metadata": {},
   "source": [
    "## Mutation\n",
    "目的：\n",
    "随机改变染色体中的某些基因，模拟基因突变，增加种群的探索能力。\n",
    "\n",
    "变异操作：\n",
    "1. 随机替换：\n",
    "以小概率（mutation_rate）随机改变某些基因值。\n",
    "2. 增加随机噪声：\n",
    "在当前基因值上加一个随机噪声（例如服从正态分布）。\n",
    "\n",
    "变异概率：\n",
    "1. 每个基因以一定的概率（mutation_rate）发生变异。\n",
    "2. 变异率通常较低（如 0.01～0.1），避免破坏优良个体。"
   ]
  },
  {
   "cell_type": "code",
   "execution_count": 114,
   "id": "88bbe842-9024-4214-9cee-7bba7472ba66",
   "metadata": {},
   "outputs": [],
   "source": [
    "def mutation(offspring, mutation_rate=0.01, method='gaussian', bounds=None):\n",
    "    \"\"\"\n",
    "    Perform mutation operation on offspring.\n",
    "    :param offspring: List of offspring individuals\n",
    "    :param mutation_rate: Probability of mutating each gene\n",
    "    :param method: Mutation method ('gaussian', 'random_reset')\n",
    "    :param bounds: Search space bounds for each gene (required for 'random_reset')\n",
    "    :return: List of mutated offspring individuals\n",
    "    \"\"\"\n",
    "    for individual in offspring.population:\n",
    "        for i in range(len(individual.genome)):\n",
    "            # Check if mutation should be applied to this gene\n",
    "            if np.random.rand() < mutation_rate:\n",
    "                if method == 'gaussian':\n",
    "                    # Add Gaussian noise to the gene\n",
    "                    individual.genome[i] += np.random.normal(0, 0.1)  # Mean=0, Std=0.1\n",
    "\n",
    "                elif method == 'random_reset':\n",
    "                    # Randomly reset the gene within bounds\n",
    "                    if bounds is not None:\n",
    "                        individual.genome[i] = np.random.uniform(bounds[i][0], bounds[i][1])\n",
    "                    else:\n",
    "                        raise ValueError(\"Bounds must be provided for 'random_reset' mutation.\")\n",
    "\n",
    "                else:\n",
    "                    raise ValueError(\"Invalid mutation method. Choose from 'gaussian' or 'random_reset'.\")\n",
    "\n",
    "                # Ensure the mutated gene remains within bounds (optional, depends on problem)\n",
    "                if bounds is not None:\n",
    "                    individual.genome[i] = np.clip(individual.genome[i], bounds[i][0], bounds[i][1])\n",
    "\n",
    "    return offspring"
   ]
  },
  {
   "cell_type": "code",
   "execution_count": 115,
   "id": "0dee9fc4-8e5b-4a33-98ad-44a2b9ef8321",
   "metadata": {},
   "outputs": [
    {
     "name": "stdout",
     "output_type": "stream",
     "text": [
      "Offspring after Gaussian mutation: 30\n",
      "Offspring after Random Reset mutation: 30\n"
     ]
    }
   ],
   "source": [
    "# 执行高斯变异\n",
    "mutated_offspring = mutation(offspring, mutation_rate=0.05, method='gaussian')\n",
    "print(\"Offspring after Gaussian mutation:\", mutated_offspring.population_size)\n",
    "\n",
    "# 执行随机重置变异\n",
    "mutated_offspring = mutation(offspring, mutation_rate=0.05, method='random_reset', bounds=bounds)\n",
    "print(\"Offspring after Random Reset mutation:\", mutated_offspring.population_size)"
   ]
  },
  {
   "cell_type": "markdown",
   "id": "fbb7e36a-02e0-4def-ac78-fcfe406f3699",
   "metadata": {},
   "source": [
    "## Population Update\n",
    "从父代和后代中选择个体更新种群，模拟自然选择。\n",
    "\n",
    "1. 精英保留策略：\n",
    "保留当前种群中适应度最高的个体（elite_count），避免最优解被淘汰。\n",
    "2. 替换策略：\n",
    "非精英个体由后代填充。\n",
    "按后代的适应度值排序，从高到低选择更新种群。"
   ]
  },
  {
   "cell_type": "code",
   "execution_count": 119,
   "id": "dee4b29b-c9c8-4ea9-925d-aaf511155acd",
   "metadata": {},
   "outputs": [],
   "source": [
    "def update_parents(parents, offspring, strategy='elitism'):\n",
    "    \"\"\"\n",
    "    Update the parents with offspring based on the specified strategy.\n",
    "    :param parents: parents object (current generation)\n",
    "    :param offspring: List of offspring individuals (new generation)\n",
    "    :param strategy: Update strategy ('elitism', 'mixed')\n",
    "    :param elite_count: Number of top individuals to preserve in 'elitism' strategy\n",
    "    :return: Updated parents object\n",
    "    \"\"\"\n",
    "    offspring.update_fitness()\n",
    "    \n",
    "    # Combine current parents and offspring\n",
    "    combined = parents.population + offspring.population\n",
    "\n",
    "    # Sort individuals by fitness (descending order, higher fitness is better)\n",
    "    parents.population.sort(key=lambda ind: ind.fitness, reverse=True)\n",
    "    offspring.population.sort(key=lambda ind: ind.fitness, reverse=True)\n",
    "    combined.sort(key=lambda ind: ind.fitness, reverse=True)\n",
    "\n",
    "    if strategy == 'elitism':\n",
    "        elite_count = parents.population_size - offspring.population_size\n",
    "        next_generation = parents.population[:elite_count] + offspring.population\n",
    "\n",
    "    elif strategy == 'mixed':\n",
    "        # Mix parents and offspring, truncate to parents size\n",
    "        next_generation = combined[:parents.population_size]\n",
    "\n",
    "    else:\n",
    "        raise ValueError(\"Invalid update strategy. Choose from 'elitism', 'replace_all', or 'mixed'.\")\n",
    "\n",
    "    # Update parents object\n",
    "    parents.update_population(next_generation)\n",
    "    return parents"
   ]
  },
  {
   "cell_type": "code",
   "execution_count": 120,
   "id": "b5afdfc5-0fd0-4c4d-ae3e-c5269b6e9b14",
   "metadata": {},
   "outputs": [
    {
     "name": "stdout",
     "output_type": "stream",
     "text": [
      "Updated population using elitism strategy: 50\n",
      "Updated population using mixed strategy: 50\n"
     ]
    }
   ],
   "source": [
    "# 假设 population 是当前种群，offspring 是通过交叉和变异生成的后代\n",
    "updated_population = update_population(population, offspring, strategy='elitism', elite_count=5)\n",
    "print(\"Updated population using elitism strategy:\", updated_population.population_size)\n",
    "\n",
    "updated_population = update_population(population, offspring, strategy='mixed')\n",
    "print(\"Updated population using mixed strategy:\", updated_population.population_size)"
   ]
  },
  {
   "cell_type": "markdown",
   "id": "6f60dd3b-308c-46ab-9530-24bd08300db2",
   "metadata": {},
   "source": [
    "## Iteration\n",
    "**终止条件**:\n",
    "以下两个终止条件达成其一，则中止循环\n",
    "\n",
    "1. 最大迭代次数：\n",
    "设定固定的最大代数（max_generations），达到后停止。\n",
    "2. 适应度收敛：\n",
    "如果种群中最优个体的适应度在多代内变化很小（如差值低于某阈值），认为已经收敛。"
   ]
  },
  {
   "cell_type": "code",
   "execution_count": 160,
   "id": "5b1a20af-281c-4154-9187-105cc98fb06d",
   "metadata": {},
   "outputs": [],
   "source": [
    "def genetic_algorithm(\n",
    "    population,\n",
    "    fitness_function,\n",
    "    num_generations=100,\n",
    "    num_selected = 30,\n",
    "    crossover_rate=0.9,\n",
    "    mutation_rate=0.01,\n",
    "    selection_strategy=\"roulette\",\n",
    "    crossover_method=\"single_point\",\n",
    "    mutation_method=\"gaussian\",\n",
    "    update_strategy=\"elitism\",\n",
    "    convergence_threshold=1e-6,\n",
    "    max_stagnant_generations=10,\n",
    "):\n",
    "    \"\"\"\n",
    "    Genetic Algorithm implementation.\n",
    "    :param population: Initial Population object\n",
    "    :param fitness_function: Fitness function to evaluate individuals\n",
    "    :param num_generations: Maximum number of generations\n",
    "    :param crossover_rate: Probability of performing crossover\n",
    "    :param mutation_rate: Probability of mutating each gene\n",
    "    :param selection_strategy: Selection strategy ('roulette', 'tournament', 'rank')\n",
    "    :param crossover_method: Crossover method ('single_point', 'two_point', 'uniform')\n",
    "    :param mutation_method: Mutation method ('gaussian', 'random_reset')\n",
    "    :param update_strategy: Population update strategy ('elitism', 'replace_all', 'mixed')\n",
    "    :param convergence_threshold: Threshold for fitness convergence\n",
    "    :param max_stagnant_generations: Maximum generations without improvement for convergence\n",
    "    :return: Best individual and its fitness\n",
    "    \"\"\"\n",
    "    # Initialize variables\n",
    "    stagnant_generations = 0\n",
    "    best_fitness = -float(\"inf\")\n",
    "    best_individual = None\n",
    "    fitness_history = []\n",
    "\n",
    "    # Update fitness for the initial population\n",
    "    population.update_fitness(fitness_function)\n",
    "\n",
    "    for generation in range(num_generations):\n",
    "        if (generation+1) % 10 == 0:\n",
    "            print(f\"Generation {generation + 1}/{num_generations}...\")\n",
    "            print(f\"  Best fitness: {best_fitness}\")\n",
    "\n",
    "        # Selection: select parents for crossover\n",
    "        parents, _ = selection(population, population.population_size, strategy=selection_strategy)\n",
    "\n",
    "        # Crossover: generate offspring\n",
    "        offspring = crossover(parents, crossover_rate=crossover_rate, method=crossover_method)\n",
    "\n",
    "        # Mutation: apply mutation to offspring\n",
    "        offspring = mutation(offspring, mutation_rate=mutation_rate, method=mutation_method, bounds=population.bounds)\n",
    "\n",
    "        # Update their fitness\n",
    "        offspring.update_fitness()\n",
    "\n",
    "        # Update population using the chosen strategy\n",
    "        population = update_parents(parents=population, offspring=offspring, strategy=update_strategy)\n",
    "\n",
    "        # Check for convergence\n",
    "        current_best_fitness = max(ind.fitness for ind in population.population)\n",
    "        if abs(current_best_fitness - best_fitness) < convergence_threshold:\n",
    "            stagnant_generations += 1\n",
    "        else:\n",
    "            stagnant_generations = 0\n",
    "            best_fitness = current_best_fitness\n",
    "            best_individual = max(population.population, key=lambda ind: ind.fitness)\n",
    "            fitness_history.append(best_fitness)\n",
    "\n",
    "        # Stop if fitness has not improved for `max_stagnant_generations` generations\n",
    "        if stagnant_generations >= max_stagnant_generations:\n",
    "            print(f\"Convergence reached after {generation + 1} generations.\")\n",
    "            break\n",
    "\n",
    "    return best_individual, best_fitness, fitness_history"
   ]
  },
  {
   "cell_type": "code",
   "execution_count": 155,
   "id": "6536796b-c5db-4d9d-b064-2db352712de3",
   "metadata": {},
   "outputs": [],
   "source": [
    "ann = NeuralNetwork(input_size=8, hidden_layers=[5, 10], output_size=1, activation_function='relu')\n",
    "\n",
    "# 已经定义了适应度函数 fitness_function，神经网络模型 ann，训练数据 X_train 和 y_train\n",
    "dimensions = ann.to_genome().size\n",
    "bounds=np.array([[-1, 1]] * dimensions)\n",
    "\n",
    "# 初始化种群\n",
    "population = Population(30)"
   ]
  },
  {
   "cell_type": "code",
   "execution_count": 161,
   "id": "36f4a465-5663-4b32-9569-f4b388e3268d",
   "metadata": {},
   "outputs": [
    {
     "name": "stdout",
     "output_type": "stream",
     "text": [
      "Generation 10/200...\n",
      "  Best fitness: 1.874220513894737\n",
      "Generation 20/200...\n",
      "  Best fitness: 1.9839132466619473\n",
      "Generation 30/200...\n",
      "  Best fitness: 1.9121411322076205\n",
      "Generation 40/200...\n",
      "  Best fitness: 1.956678327677671\n",
      "Generation 50/200...\n",
      "  Best fitness: 2.029083552669127\n",
      "Generation 60/200...\n",
      "  Best fitness: 2.0566540649793015\n",
      "Generation 70/200...\n",
      "  Best fitness: 1.9968090150299165\n",
      "Generation 80/200...\n",
      "  Best fitness: 1.9574391506550657\n",
      "Generation 90/200...\n",
      "  Best fitness: 2.030980832844396\n",
      "Generation 100/200...\n",
      "  Best fitness: 2.030766163771469\n",
      "Generation 110/200...\n",
      "  Best fitness: 2.129153411103335\n",
      "Generation 120/200...\n",
      "  Best fitness: 2.1225789675788187\n",
      "Generation 130/200...\n",
      "  Best fitness: 2.1763708827529173\n",
      "Generation 140/200...\n",
      "  Best fitness: 2.2261227469289624\n",
      "Generation 150/200...\n",
      "  Best fitness: 2.2461634187551622\n",
      "Generation 160/200...\n",
      "  Best fitness: 2.254199473249965\n",
      "Generation 170/200...\n",
      "  Best fitness: 2.2867541265457785\n",
      "Generation 180/200...\n",
      "  Best fitness: 2.2945113614592145\n",
      "Generation 190/200...\n",
      "  Best fitness: 2.2978984468419283\n",
      "Generation 200/200...\n",
      "  Best fitness: 2.4183496905591135\n"
     ]
    }
   ],
   "source": [
    "# 调用遗传算法\n",
    "best_individual, best_fitness, fitness_history = genetic_algorithm(\n",
    "    population=population,\n",
    "    fitness_function=fitness_function,\n",
    "    num_generations=1000,\n",
    "    crossover_rate=0.9,\n",
    "    mutation_rate=0.01,\n",
    "    selection_strategy=\"roulette\",\n",
    "    crossover_method=\"single_point\",\n",
    "    mutation_method=\"gaussian\",\n",
    "    update_strategy=\"elitism\",\n",
    "    convergence_threshold=1e-6,\n",
    "    max_stagnant_generations=10,\n",
    ")"
   ]
  },
  {
   "cell_type": "code",
   "execution_count": 168,
   "id": "a06f28ff-f8a3-4989-837b-c833d14ea0ee",
   "metadata": {},
   "outputs": [
    {
     "name": "stdout",
     "output_type": "stream",
     "text": [
      "Best individual fitness: 2.3242013821783125\n",
      "Best individual genome: [-0.44358184  1.          0.79739221 -0.21523133  0.56403288]...\n"
     ]
    }
   ],
   "source": [
    "print(f\"Best individual fitness: {best_fitness}\")\n",
    "print(f\"Best individual genome: {best_individual.genome[:5]}...\")"
   ]
  },
  {
   "cell_type": "code",
   "execution_count": 170,
   "id": "fd25fdb7-3551-4d63-9f46-eb6d6155f76a",
   "metadata": {},
   "outputs": [
    {
     "data": {
      "image/png": "[encoded data removed]",
      "text/plain": [
       "<Figure size 1200x800 with 1 Axes>"
      ]
     },
     "metadata": {},
     "output_type": "display_data"
    }
   ],
   "source": [
    "# Assume fitness_history is a list of Global Best Fitness\n",
    "iterations = range(1, len(fitness_history) + 1)\n",
    "\n",
    "# Draw the optimized image\n",
    "plt.figure(figsize=(12, 8))\n",
    "plt.plot(iterations, fitness_history, color='blue', linewidth=2, label='Global Best Fitness')\n",
    "plt.scatter(iterations, fitness_history, color='red', s=10, label='Iteration Points')\n",
    "\n",
    "# Add title and labels\n",
    "plt.title('Global Best Fitness vs Iterations', fontsize=18, fontweight='bold', pad=20)\n",
    "plt.xlabel('Iterations', fontsize=14)\n",
    "plt.ylabel('Global Best Fitness (MSE)', fontsize=14)\n",
    "\n",
    "# Set up the grid and background\n",
    "plt.grid(color='gray', linestyle='--', linewidth=0.5, alpha=0.7)\n",
    "plt.gca().set_facecolor('#f9f9f9')\n",
    "\n",
    "# Add annotation area\n",
    "# plt.axvspan(0, 50, color='yellow', alpha=0.2, label='Rapid Convergence Zone')\n",
    "\n",
    "# Add a legend\n",
    "plt.legend(fontsize=12, loc='upper right')\n",
    "\n",
    "# Set axis range and scale\n",
    "plt.xticks(np.arange(0, len(fitness_history) + 1, step=50), fontsize=12)\n",
    "plt.yticks(fontsize=12)\n",
    "\n",
    "# Save the image\n",
    "plt.tight_layout()\n",
    "plt.savefig('global_best_fitness_optimized.png', dpi=300)\n",
    "plt.show()"
   ]
  },
  {
   "cell_type": "code",
   "execution_count": null,
   "id": "2f818a68-6537-4a18-8648-7f360a176da4",
   "metadata": {},
   "outputs": [],
   "source": []
  }
 ],
 "metadata": {
  "kernelspec": {
   "display_name": "Python 3 (ipykernel)",
   "language": "python",
   "name": "python3"
  },
  "language_info": {
   "codemirror_mode": {
    "name": "ipython",
    "version": 3
   },
   "file_extension": ".py",
   "mimetype": "text/x-python",
   "name": "python",
   "nbconvert_exporter": "python",
   "pygments_lexer": "ipython3",
   "version": "3.10.10"
  }
 },
 "nbformat": 4,
 "nbformat_minor": 5
}
